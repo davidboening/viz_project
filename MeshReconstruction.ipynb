{
 "cells": [
  {
   "cell_type": "code",
   "execution_count": 1,
   "metadata": {},
   "outputs": [],
   "source": [
    "import torch\n",
    "# data loading\n",
    "import pandas as pd\n",
    "from plyfile import PlyData\n",
    "# plotting\n",
    "from meshplot import plot\n",
    "from ipywidgets import interact, FloatSlider\n",
    "\n",
    "# implementation\n",
    "from implementation import minmax_scaling, centerzoom_scaling, DPSR_forward\n",
    "from skimage.measure import marching_cubes"
   ]
  },
  {
   "attachments": {},
   "cell_type": "markdown",
   "metadata": {},
   "source": [
    "### Load data and set parameters"
   ]
  },
  {
   "cell_type": "code",
   "execution_count": 2,
   "metadata": {},
   "outputs": [],
   "source": [
    "SCAN = \"./deep_geometric_prior_data/scans/dc.ply\"\n",
    "\n",
    "## configuration\n",
    "GRID = tuple([256] * 3)\n",
    "SIGMA = 1\n",
    "# authors use a \"normalization\" + sigmoid schema as preprocessing\n",
    "# anything can be used as long as the final space in which points\n",
    "# reside in the interval (0,1) along each dimension\n",
    "PREPROC = lambda x: torch.sigmoid(centerzoom_scaling(x, scale=0.9))\n",
    "# we tried min-max scaling with noticeably worse results then the above\n",
    "# PREPROC = lambda x: torch.sigmoid(minmax_scaling(x, eps=1e-5))"
   ]
  },
  {
   "cell_type": "code",
   "execution_count": 3,
   "metadata": {},
   "outputs": [],
   "source": [
    "def read_ply_file(path):\n",
    "    data = PlyData.read(path)\n",
    "\n",
    "    xyz = [torch.tensor(data[\"vertex\"][axis]) for axis in [\"x\", \"y\", \"z\"]]\n",
    "    xyz = torch.stack(xyz, dim=-1)\n",
    "\n",
    "    nxyz = [torch.tensor(data[\"vertex\"][axis]) for axis in [\"nx\", \"ny\", \"nz\"]]\n",
    "    nxyz = torch.stack(nxyz, dim=-1)\n",
    "    return xyz.unsqueeze(0), nxyz.unsqueeze(0)"
   ]
  },
  {
   "cell_type": "code",
   "execution_count": 4,
   "metadata": {},
   "outputs": [],
   "source": [
    "points, normals = read_ply_file(SCAN)"
   ]
  },
  {
   "cell_type": "markdown",
   "metadata": {},
   "source": [
    "### Pointcloud with normals"
   ]
  },
  {
   "cell_type": "code",
   "execution_count": 5,
   "metadata": {},
   "outputs": [
    {
     "data": {
      "application/vnd.jupyter.widget-view+json": {
       "model_id": "ef025462c3c941c0a5cb802c6b14e5e6",
       "version_major": 2,
       "version_minor": 0
      },
      "text/plain": [
       "Renderer(camera=PerspectiveCamera(children=(DirectionalLight(color='white', intensity=0.6, position=(0.5, 0.50…"
      ]
     },
     "metadata": {},
     "output_type": "display_data"
    }
   ],
   "source": [
    "plot(minmax_scaling(points[0], eps=0).numpy(), c=normals[0].numpy());"
   ]
  },
  {
   "cell_type": "code",
   "execution_count": 6,
   "metadata": {},
   "outputs": [],
   "source": [
    "# compute indicator function\n",
    "eps = 1e-6  # division by zero\n",
    "m = 0.5     # indicator scaling\n",
    "\n",
    "class SelfMockup:\n",
    "    pass\n",
    "\n",
    "mockup = SelfMockup()\n",
    "mockup.grid = GRID\n",
    "mockup.sigma = SIGMA\n",
    "mockup.eps = eps\n",
    "mockup.m = m\n",
    "chi = DPSR_forward(mockup, PREPROC(points), normals)"
   ]
  },
  {
   "attachments": {},
   "cell_type": "markdown",
   "metadata": {},
   "source": [
    "### Mesh reconstruction with indicator $\\chi$ and marching cubes"
   ]
  },
  {
   "cell_type": "code",
   "execution_count": 7,
   "metadata": {},
   "outputs": [
    {
     "data": {
      "application/vnd.jupyter.widget-view+json": {
       "model_id": "c8100853febc44b7926a1f9eebfc910e",
       "version_major": 2,
       "version_minor": 0
      },
      "text/plain": [
       "Renderer(camera=PerspectiveCamera(children=(DirectionalLight(color='white', intensity=0.6, position=(127.37522…"
      ]
     },
     "metadata": {},
     "output_type": "display_data"
    },
    {
     "data": {
      "text/plain": [
       "<meshplot.Viewer.Viewer at 0x7fc9e2385090>"
      ]
     },
     "execution_count": 7,
     "metadata": {},
     "output_type": "execute_result"
    }
   ],
   "source": [
    "# reconstruct mesh\n",
    "v, f, n, val = marching_cubes(chi[0].numpy(), level=0)\n",
    "plot(v=v,f=f)"
   ]
  },
  {
   "cell_type": "raw",
   "metadata": {},
   "source": [
    "# this implementation only works with cuda, c++ version is bugged!\n",
    "# also it does not return normals\n",
    "from pytorch3d.ops.marching_cubes import marching_cubes\n",
    "v, f = marching_cubes(ourchi.type(torch.float32).to(\"cuda\"), isolevel=0)\n",
    "meshplot.plot(\n",
    "    v=v[0].cpu().numpy(),\n",
    "    f=f[0].cpu().numpy()\n",
    ")"
   ]
  },
  {
   "cell_type": "raw",
   "metadata": {},
   "source": [
    "# voxel plot\n",
    "from pytorch3d.ops import cubify\n",
    "mesh = cubify(-ourchi, thresh=0)\n",
    "meshplot.plot(\n",
    "    v=mesh.verts_list()[0].numpy(),\n",
    "    f=mesh.faces_list()[0].numpy(),\n",
    ")"
   ]
  }
 ],
 "metadata": {
  "kernelspec": {
   "display_name": "3D",
   "language": "python",
   "name": "python3"
  },
  "language_info": {
   "codemirror_mode": {
    "name": "ipython",
    "version": 3
   },
   "file_extension": ".py",
   "mimetype": "text/x-python",
   "name": "python",
   "nbconvert_exporter": "python",
   "pygments_lexer": "ipython3",
   "version": "3.10.8"
  },
  "orig_nbformat": 4,
  "vscode": {
   "interpreter": {
    "hash": "22357a8339bca2409ed8f0b466584fbbd9186140f6949acb5f8f48402ef97e5e"
   }
  }
 },
 "nbformat": 4,
 "nbformat_minor": 2
}
