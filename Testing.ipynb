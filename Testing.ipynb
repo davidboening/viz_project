{
 "cells": [
  {
   "cell_type": "code",
   "execution_count": 1,
   "metadata": {},
   "outputs": [],
   "source": [
    "import torch\n",
    "import numpy as np\n",
    "import pandas as pd\n",
    "# from pytorch3d.structures import Pointclouds\n",
    "from plyfile import PlyData\n",
    "\n",
    "import meshplot"
   ]
  },
  {
   "cell_type": "code",
   "execution_count": 2,
   "metadata": {},
   "outputs": [],
   "source": [
    "GROUNDTRUTH = \"./deep_geometric_prior_data/ground_truth/anchor.xyz\"\n",
    "SCAN = \"./deep_geometric_prior_data/scans/anchor.ply\""
   ]
  },
  {
   "cell_type": "code",
   "execution_count": 3,
   "metadata": {},
   "outputs": [],
   "source": [
    "def read_ply_file(file):\n",
    "    data = PlyData.read(SCAN)\n",
    "\n",
    "    xyz = ([torch.tensor(data['vertex'][axis]) for axis in ['x', 'y', 'z']])\n",
    "    xyz = torch.stack(xyz, dim=-1)\n",
    "\n",
    "    nxyz = ([torch.tensor(data['vertex'][axis]) for axis in ['nx', 'ny', 'nz']])\n",
    "    nxyz = torch.stack(nxyz, dim=-1)\n",
    "    return xyz.unsqueeze(0), nxyz.unsqueeze(0)\n",
    "\n",
    "def read_xyz_file(path):\n",
    "    return torch.tensor(\n",
    "        pd.read_table(\n",
    "            GROUNDTRUTH, \n",
    "            delim_whitespace=True, \n",
    "            names=['x', 'y', 'z']\n",
    "        ).to_numpy()\n",
    "    ).unsqueeze(0)"
   ]
  },
  {
   "cell_type": "code",
   "execution_count": 4,
   "metadata": {},
   "outputs": [],
   "source": [
    "# read xyz file\n",
    "gt_xyz = read_xyz_file(GROUNDTRUTH)\n",
    "# gt_cloud = Pointclouds(gt_xyz)\n",
    "\n",
    "# read ply file\n",
    "scan_xyz, scan_nxyz = read_ply_file(SCAN)\n",
    "# scan_cloud = Pointclouds(scan_xyz, normals=scan_nxyz)\n",
    "\n",
    "del gt_xyz, scan_xyz, scan_nxyz"
   ]
  },
  {
   "cell_type": "code",
   "execution_count": 5,
   "metadata": {},
   "outputs": [],
   "source": [
    "points  = scan_xyz.unsqueeze(0)\n",
    "normals = scan_nxyz.unsqueeze(0)"
   ]
  },
  {
   "cell_type": "code",
   "execution_count": 6,
   "metadata": {},
   "outputs": [],
   "source": [
    "from implementation import minmax_scaling"
   ]
  },
  {
   "cell_type": "code",
   "execution_count": 7,
   "metadata": {},
   "outputs": [
    {
     "data": {
      "application/vnd.jupyter.widget-view+json": {
       "model_id": "22ce89ee733547798d06d68c959887c1",
       "version_major": 2,
       "version_minor": 0
      },
      "text/plain": [
       "Renderer(camera=PerspectiveCamera(children=(DirectionalLight(color='white', intensity=0.6, position=(0.4999999…"
      ]
     },
     "metadata": {},
     "output_type": "display_data"
    }
   ],
   "source": [
    "meshplot.plot(minmax_scaling(points[0], eps=1e-5).numpy(), c=normals[0].numpy());"
   ]
  },
  {
   "cell_type": "code",
   "execution_count": 8,
   "metadata": {},
   "outputs": [],
   "source": [
    "from implementation import DPSR_forward\n",
    "from oracle import forward, spec_gaussian_filter"
   ]
  },
  {
   "cell_type": "code",
   "execution_count": 9,
   "metadata": {},
   "outputs": [
    {
     "name": "stderr",
     "output_type": "stream",
     "text": [
      "/home/david/mambaforge/envs/3D/lib/python3.10/site-packages/torch/functional.py:504: UserWarning: torch.meshgrid: in an upcoming release, it will be required to pass the indexing argument. (Triggered internally at /opt/conda/conda-bld/pytorch_1670525541990/work/aten/src/ATen/native/TensorShape.cpp:3190.)\n",
      "  return _VF.meshgrid(tensors, **kwargs)  # type: ignore[attr-defined]\n"
     ]
    }
   ],
   "source": [
    "## configuration\n",
    "GRID = tuple([32] * 3)\n",
    "PREPROC = lambda x: minmax_scaling(x.type(torch.float64), eps=1e-5)\n",
    "SIGMA = 5\n",
    "eps = 1e-6\n",
    "m = 0.5\n",
    "\n",
    "\n",
    "class SelfMockup:\n",
    "    pass\n",
    "\n",
    "# test ours\n",
    "mockup = SelfMockup()\n",
    "mockup.grid = GRID\n",
    "mockup.sigma = SIGMA\n",
    "mockup.eps = eps\n",
    "mockup.m = m\n",
    "ourchi = DPSR_forward(mockup, PREPROC(points), normals)\n",
    "\n",
    "# test authors\n",
    "mockup = SelfMockup()\n",
    "mockup.dim = len(GRID)\n",
    "mockup.res = GRID\n",
    "mockup.shift = True\n",
    "mockup.scale = True\n",
    "mockup.G = spec_gaussian_filter(GRID, SIGMA)\n",
    "testchi = forward(mockup, PREPROC(points), normals)\n"
   ]
  },
  {
   "cell_type": "code",
   "execution_count": 10,
   "metadata": {},
   "outputs": [
    {
     "data": {
      "text/plain": [
       "tensor(7.9491e-07, dtype=torch.float64)"
      ]
     },
     "execution_count": 10,
     "metadata": {},
     "output_type": "execute_result"
    }
   ],
   "source": [
    "# check implementation correctness with oracle\n",
    "# assert torch.allclose(testchi, ourchi, atol=1e-6)\n",
    "(testchi - ourchi).max()"
   ]
  },
  {
   "cell_type": "code",
   "execution_count": 11,
   "metadata": {},
   "outputs": [
    {
     "data": {
      "text/plain": [
       "{'external': tensor(1776155),\n",
       " 'internal': tensor(300036),\n",
       " 'border': tensor(20961)}"
      ]
     },
     "execution_count": 11,
     "metadata": {},
     "output_type": "execute_result"
    }
   ],
   "source": [
    "atol = 0.05\n",
    "status = {\n",
    "    \"external\" : (ourchi > atol).sum(),\n",
    "    \"internal\" : (ourchi < -atol).sum(),\n",
    "    \"border\" : ((ourchi >= -atol) & (ourchi <= atol)).sum()\n",
    "}\n",
    "status"
   ]
  },
  {
   "cell_type": "code",
   "execution_count": 12,
   "metadata": {},
   "outputs": [],
   "source": [
    "from ipywidgets import interact, FloatSlider"
   ]
  },
  {
   "cell_type": "code",
   "execution_count": 13,
   "metadata": {},
   "outputs": [
    {
     "data": {
      "application/vnd.jupyter.widget-view+json": {
       "model_id": "6a2f4b586a744ad38455c9f4be723941",
       "version_major": 2,
       "version_minor": 0
      },
      "text/plain": [
       "Renderer(camera=PerspectiveCamera(children=(DirectionalLight(color='white', intensity=0.6, position=(63.5, 64.…"
      ]
     },
     "metadata": {},
     "output_type": "display_data"
    },
    {
     "data": {
      "application/vnd.jupyter.widget-view+json": {
       "model_id": "c61a9b2bdbce4ac488ce233c5473a2d1",
       "version_major": 2,
       "version_minor": 0
      },
      "text/plain": [
       "interactive(children=(Dropdown(description='plot', options=('internal', 'external', 'indicator'), value='inter…"
      ]
     },
     "metadata": {},
     "output_type": "display_data"
    }
   ],
   "source": [
    "chi = ourchi.squeeze(0)\n",
    "shading = {\"point_color\": \"green\", \"point_size\": 0.1}\n",
    "fig = meshplot.plot(\n",
    "    v=(chi < -1e-1).nonzero().type(torch.float).numpy(),\n",
    "    return_plot=True,\n",
    "    shading=shading\n",
    ")\n",
    "\n",
    "@interact(\n",
    "    plot=[\"internal\", \"external\", \"indicator\"], \n",
    "    thresh=FloatSlider(value=1e-1, min=1e-2, max=2e-1, step=1e-2, description=\"threshold\"),\n",
    "    psize=FloatSlider(value=1e-3, min=1e-3, max=1e-1, step=1e-3, description=\"size\"),\n",
    ")\n",
    "def plot_points(plot, thresh, psize):\n",
    "    if plot == \"external\":\n",
    "        filter = (chi >  thresh)\n",
    "    elif plot == \"internal\":\n",
    "        filter = (chi < -thresh)\n",
    "    else:\n",
    "        filter = ((chi >= -thresh) & (chi <= thresh))\n",
    "\n",
    "    points = filter.nonzero().type(torch.float) / (GRID[0])\n",
    "    shading.update({\"point_size\": psize})\n",
    "    meshplot.plot(points.numpy(), shading=shading, plot=fig)\n",
    "    "
   ]
  }
 ],
 "metadata": {
  "kernelspec": {
   "display_name": "3D",
   "language": "python",
   "name": "python3"
  },
  "language_info": {
   "codemirror_mode": {
    "name": "ipython",
    "version": 3
   },
   "file_extension": ".py",
   "mimetype": "text/x-python",
   "name": "python",
   "nbconvert_exporter": "python",
   "pygments_lexer": "ipython3",
   "version": "3.10.8"
  },
  "orig_nbformat": 4,
  "vscode": {
   "interpreter": {
    "hash": "22357a8339bca2409ed8f0b466584fbbd9186140f6949acb5f8f48402ef97e5e"
   }
  }
 },
 "nbformat": 4,
 "nbformat_minor": 2
}
