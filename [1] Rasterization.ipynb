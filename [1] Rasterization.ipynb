{
 "cells": [
  {
   "cell_type": "code",
   "execution_count": null,
   "metadata": {},
   "outputs": [],
   "source": [
    "import torch\n",
    "\n",
    "# data loading\n",
    "from plyfile import PlyData\n",
    "\n",
    "# plotting\n",
    "from meshplot import plot\n",
    "\n",
    "# implementation\n",
    "from implementation import (\n",
    "    point_rasterization,\n",
    "    grid_interpolation,\n",
    "    unitsphere_scaling,\n",
    "    minmax_scaling,\n",
    ")"
   ]
  },
  {
   "attachments": {},
   "cell_type": "markdown",
   "metadata": {},
   "source": [
    "### Load data and compute rasterization"
   ]
  },
  {
   "cell_type": "code",
   "execution_count": null,
   "metadata": {},
   "outputs": [],
   "source": [
    "SCAN = \"./deep_geometric_prior_data/scans/anchor.ply\"\n",
    "GRID = tuple([256] * 3)"
   ]
  },
  {
   "cell_type": "code",
   "execution_count": null,
   "metadata": {},
   "outputs": [],
   "source": [
    "def read_ply_file(file):\n",
    "    data = PlyData.read(file)\n",
    "\n",
    "    xyz = [torch.tensor(data[\"vertex\"][axis]) for axis in [\"x\", \"y\", \"z\"]]\n",
    "    xyz = torch.stack(xyz, dim=-1)\n",
    "\n",
    "    nxyz = [torch.tensor(data[\"vertex\"][axis]) for axis in [\"nx\", \"ny\", \"nz\"]]\n",
    "    nxyz = torch.stack(nxyz, dim=-1)\n",
    "    return xyz.unsqueeze(0), nxyz.unsqueeze(0)\n",
    "\n",
    "\n",
    "points, normals = read_ply_file(SCAN)\n",
    "points = torch.sigmoid(unitsphere_scaling(points, scale=0.9))"
   ]
  },
  {
   "cell_type": "code",
   "execution_count": null,
   "metadata": {},
   "outputs": [],
   "source": [
    "# encode normals into grid\n",
    "normal_vector_field = point_rasterization(points, normals, GRID)"
   ]
  },
  {
   "cell_type": "code",
   "execution_count": null,
   "metadata": {},
   "outputs": [],
   "source": [
    "# retrieve normal values\n",
    "# permute: (one grid per feature) -> (grid with all features)\n",
    "normal_vector_field = normal_vector_field.permute(0, 2, 3, 4, 1)\n",
    "n = grid_interpolation(normal_vector_field, points)"
   ]
  },
  {
   "attachments": {},
   "cell_type": "markdown",
   "metadata": {},
   "source": [
    "### Example Rasterization\n",
    "Following we show the difference between interpolated normals and true normals"
   ]
  },
  {
   "cell_type": "code",
   "execution_count": null,
   "metadata": {},
   "outputs": [],
   "source": [
    "# plot with interpolated normals\n",
    "plot(points[0].numpy(), c=n[0].numpy())"
   ]
  },
  {
   "cell_type": "code",
   "execution_count": null,
   "metadata": {},
   "outputs": [],
   "source": [
    "# plot with actual normals\n",
    "plot(points[0].numpy(), c=normals[0].numpy())"
   ]
  }
 ],
 "metadata": {
  "kernelspec": {
   "display_name": "3D",
   "language": "python",
   "name": "python3"
  },
  "language_info": {
   "codemirror_mode": {
    "name": "ipython",
    "version": 3
   },
   "file_extension": ".py",
   "mimetype": "text/x-python",
   "name": "python",
   "nbconvert_exporter": "python",
   "pygments_lexer": "ipython3",
   "version": "3.10.8 | packaged by conda-forge | (main, Nov 22 2022, 08:26:04) [GCC 10.4.0]"
  },
  "orig_nbformat": 4,
  "vscode": {
   "interpreter": {
    "hash": "22357a8339bca2409ed8f0b466584fbbd9186140f6949acb5f8f48402ef97e5e"
   }
  }
 },
 "nbformat": 4,
 "nbformat_minor": 2
}
