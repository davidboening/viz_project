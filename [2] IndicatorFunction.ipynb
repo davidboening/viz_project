{
 "cells": [
  {
   "cell_type": "code",
   "execution_count": null,
   "metadata": {},
   "outputs": [],
   "source": [
    "import torch\n",
    "\n",
    "# data loading\n",
    "import pandas as pd\n",
    "from plyfile import PlyData\n",
    "\n",
    "# plotting\n",
    "from meshplot import plot\n",
    "from ipywidgets import interact, FloatSlider\n",
    "\n",
    "# implementation\n",
    "from implementation import minmax_scaling, centerzoom_scaling, DPSR_forward"
   ]
  },
  {
   "attachments": {},
   "cell_type": "markdown",
   "metadata": {},
   "source": [
    "### Load data and set parameters"
   ]
  },
  {
   "cell_type": "code",
   "execution_count": null,
   "metadata": {},
   "outputs": [],
   "source": [
    "SCAN = \"./deep_geometric_prior_data/scans/dc.ply\"\n",
    "\n",
    "## configuration\n",
    "GRID = tuple([256] * 3)\n",
    "SIGMA = 1\n",
    "# authors use a \"normalization\" + sigmoid schema as preprocessing\n",
    "# anything can be used as long as the final space in which points\n",
    "# reside in the interval (0,1) along each dimension\n",
    "PREPROC = lambda x: torch.sigmoid(centerzoom_scaling(x, scale=0.9))\n",
    "# we tried min-max scaling with noticeably worse results then the above\n",
    "# PREPROC = lambda x: torch.sigmoid(minmax_scaling(x, eps=1e-5))"
   ]
  },
  {
   "cell_type": "code",
   "execution_count": null,
   "metadata": {},
   "outputs": [],
   "source": [
    "def read_ply_file(path):\n",
    "    data = PlyData.read(path)\n",
    "\n",
    "    xyz = [torch.tensor(data[\"vertex\"][axis]) for axis in [\"x\", \"y\", \"z\"]]\n",
    "    xyz = torch.stack(xyz, dim=-1)\n",
    "\n",
    "    nxyz = [torch.tensor(data[\"vertex\"][axis]) for axis in [\"nx\", \"ny\", \"nz\"]]\n",
    "    nxyz = torch.stack(nxyz, dim=-1)\n",
    "    return xyz.unsqueeze(0), nxyz.unsqueeze(0)"
   ]
  },
  {
   "cell_type": "code",
   "execution_count": null,
   "metadata": {},
   "outputs": [],
   "source": [
    "points, normals = read_ply_file(SCAN)"
   ]
  },
  {
   "attachments": {},
   "cell_type": "markdown",
   "metadata": {},
   "source": [
    "### Pointcloud with normals"
   ]
  },
  {
   "cell_type": "code",
   "execution_count": null,
   "metadata": {},
   "outputs": [],
   "source": [
    "# plot pointcloud with color given by normals\n",
    "plot(minmax_scaling(points[0], eps=0).numpy(), c=normals[0].numpy());"
   ]
  },
  {
   "attachments": {},
   "cell_type": "markdown",
   "metadata": {},
   "source": [
    "### Indicator function $\\chi$"
   ]
  },
  {
   "cell_type": "code",
   "execution_count": null,
   "metadata": {},
   "outputs": [],
   "source": [
    "eps = 1e-6  # division by zero\n",
    "m = 0.5  # indicator scaling\n",
    "\n",
    "\n",
    "class SelfMockup:\n",
    "    pass\n",
    "\n",
    "\n",
    "# test ours\n",
    "mockup = SelfMockup()\n",
    "mockup.grid = GRID\n",
    "mockup.sigma = SIGMA\n",
    "mockup.eps = eps\n",
    "mockup.m = m\n",
    "chi = DPSR_forward(mockup, PREPROC(points), normals)"
   ]
  },
  {
   "attachments": {},
   "cell_type": "markdown",
   "metadata": {},
   "source": [
    "### Estimate of grid distribution"
   ]
  },
  {
   "cell_type": "code",
   "execution_count": null,
   "metadata": {},
   "outputs": [],
   "source": [
    "atol = 0.05  # threshold for indicator function\n",
    "status = {\n",
    "    \"external\": (chi > atol).sum(),\n",
    "    \"internal\": (chi < -atol).sum(),\n",
    "    \"border\": ((chi >= -atol) & (chi <= atol)).sum(),\n",
    "}\n",
    "status"
   ]
  },
  {
   "attachments": {},
   "cell_type": "markdown",
   "metadata": {},
   "source": [
    "### Plot Indicator Function"
   ]
  },
  {
   "cell_type": "code",
   "execution_count": null,
   "metadata": {},
   "outputs": [],
   "source": [
    "# use our implementation for plotting\n",
    "chi = chi.squeeze(0)\n",
    "shading = {\"point_color\": \"green\", \"point_size\": 0.1}\n",
    "fig = plot(\n",
    "    v=(chi < -1e-1).nonzero().type(torch.float).numpy(),\n",
    "    return_plot=True,\n",
    "    shading=shading,\n",
    ")\n",
    "\n",
    "\n",
    "@interact(\n",
    "    what=[\"indicator\", \"internal\", \"external\"],\n",
    "    thresh=FloatSlider(\n",
    "        value=1e-1, min=1e-2, max=2e-1, step=1e-2, description=\"threshold\"\n",
    "    ),\n",
    "    pointsize=FloatSlider(\n",
    "        value=1e-2, min=1e-2, max=5e-2, step=1e-3, description=\"pointsize\"\n",
    "    ),\n",
    ")\n",
    "def plot_points(what, thresh, pointsize):\n",
    "    if what == \"external\":\n",
    "        filter = chi > thresh\n",
    "    elif what == \"internal\":\n",
    "        filter = chi < -thresh\n",
    "    else:\n",
    "        filter = (chi >= -thresh) & (chi <= thresh)\n",
    "\n",
    "    points = filter.nonzero().type(torch.float) / GRID[0]\n",
    "    shading.update({\"point_size\": pointsize})\n",
    "    plot(points.numpy(), shading=shading, plot=fig)"
   ]
  }
 ],
 "metadata": {
  "kernelspec": {
   "display_name": "3D",
   "language": "python",
   "name": "python3"
  },
  "language_info": {
   "codemirror_mode": {
    "name": "ipython",
    "version": 3
   },
   "file_extension": ".py",
   "mimetype": "text/x-python",
   "name": "python",
   "nbconvert_exporter": "python",
   "pygments_lexer": "ipython3",
   "version": "3.10.8"
  },
  "orig_nbformat": 4,
  "vscode": {
   "interpreter": {
    "hash": "22357a8339bca2409ed8f0b466584fbbd9186140f6949acb5f8f48402ef97e5e"
   }
  }
 },
 "nbformat": 4,
 "nbformat_minor": 2
}
