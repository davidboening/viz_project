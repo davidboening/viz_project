{
 "cells": [
  {
   "cell_type": "code",
   "execution_count": null,
   "metadata": {},
   "outputs": [],
   "source": [
    "import torch\n",
    "\n",
    "# data loading\n",
    "import pandas as pd\n",
    "from plyfile import PlyData\n",
    "\n",
    "# plotting\n",
    "from meshplot import plot\n",
    "from ipywidgets import interact, FloatSlider\n",
    "\n",
    "# implementation\n",
    "from sap import ShapeAsPoints\n",
    "\n",
    "# generate initial pointcloud\n",
    "from pytorch3d.utils import ico_sphere\n",
    "from pytorch3d.ops import sample_points_from_meshes"
   ]
  },
  {
   "attachments": {},
   "cell_type": "markdown",
   "metadata": {},
   "source": [
    "### Load data and set parameters"
   ]
  },
  {
   "cell_type": "code",
   "execution_count": null,
   "metadata": {},
   "outputs": [],
   "source": [
    "MODEL_NAME = \"gargoyle\"\n",
    "SCAN = f\"./deep_geometric_prior_data/scans/{MODEL_NAME}.ply\"\n",
    "GT = f\"./deep_geometric_prior_data/ground_truth/{MODEL_NAME}.xyz\""
   ]
  },
  {
   "cell_type": "code",
   "execution_count": null,
   "metadata": {},
   "outputs": [],
   "source": [
    "def read_ply_file(path):\n",
    "    data = PlyData.read(path)\n",
    "\n",
    "    xyz = [torch.tensor(data[\"vertex\"][axis]) for axis in [\"x\", \"y\", \"z\"]]\n",
    "    xyz = torch.stack(xyz, dim=-1)\n",
    "\n",
    "    nxyz = [torch.tensor(data[\"vertex\"][axis]) for axis in [\"nx\", \"ny\", \"nz\"]]\n",
    "    nxyz = torch.stack(nxyz, dim=-1)\n",
    "    return xyz.unsqueeze(0), nxyz.unsqueeze(0)\n",
    "\n",
    "def read_xyz_file(path):\n",
    "    return torch.tensor(\n",
    "        pd.read_table(path, delim_whitespace=True, names=[\"x\", \"y\", \"z\"]).to_numpy()\n",
    "    ).unsqueeze(0)"
   ]
  },
  {
   "cell_type": "code",
   "execution_count": null,
   "metadata": {},
   "outputs": [],
   "source": [
    "# we should use GT here but computing the loss on \n",
    "# 2M points without sampling takes too long\n",
    "gt_points, normals = read_ply_file(SCAN)\n",
    "# gt_points = read_xyz_file(GT).float()"
   ]
  },
  {
   "cell_type": "code",
   "execution_count": null,
   "metadata": {},
   "outputs": [],
   "source": [
    "# we start with a sphere\n",
    "sphere = ico_sphere(5)\n",
    "init_points, init_normals = sample_points_from_meshes(\n",
    "    sphere, num_samples=50000, return_normals=True\n",
    ")"
   ]
  },
  {
   "cell_type": "code",
   "execution_count": null,
   "metadata": {},
   "outputs": [],
   "source": [
    "device = \"cuda\" if torch.cuda.is_available() else \"cpu\"\n",
    "sap = ShapeAsPoints(init_points, init_normals, gt_points, resolution=32, device=\"cuda\")"
   ]
  },
  {
   "attachments": {},
   "cell_type": "markdown",
   "metadata": {},
   "source": [
    "### Optimization approach example\n",
    "Note that if no gpu is available, grid resolution should be vastly reduced."
   ]
  },
  {
   "cell_type": "code",
   "execution_count": null,
   "metadata": {},
   "outputs": [],
   "source": [
    "fig = plot(\n",
    "    v=sphere.verts_packed().numpy(),\n",
    "    f=sphere.faces_packed().numpy(),\n",
    "    c=sphere.verts_normals_packed().numpy(),\n",
    ")\n",
    "def update_figure(rec):\n",
    "    v,f,n = rec[\"mesh\"]\n",
    "    plot(v[0].cpu().numpy(), f=f[0].cpu().numpy(), c=n[0].cpu().numpy(), plot=fig)\n",
    "\n",
    "save = []\n",
    "def callback(rec):\n",
    "    save.append(rec[\"loss\"])\n",
    "    if (rec[\"epoch\"]-1) % 100 == 0:\n",
    "        update_figure(rec)\n",
    "\n",
    "sap.train(\n",
    "    [(32, 2500), (64, 500), (128, 500), (256, 500)],\n",
    "    callback=callback\n",
    ")"
   ]
  },
  {
   "cell_type": "code",
   "execution_count": null,
   "metadata": {},
   "outputs": [],
   "source": []
  }
 ],
 "metadata": {
  "kernelspec": {
   "display_name": "3D",
   "language": "python",
   "name": "python3"
  },
  "language_info": {
   "codemirror_mode": {
    "name": "ipython",
    "version": 3
   },
   "file_extension": ".py",
   "mimetype": "text/x-python",
   "name": "python",
   "nbconvert_exporter": "python",
   "pygments_lexer": "ipython3",
   "version": "3.10.8"
  },
  "orig_nbformat": 4,
  "vscode": {
   "interpreter": {
    "hash": "22357a8339bca2409ed8f0b466584fbbd9186140f6949acb5f8f48402ef97e5e"
   }
  }
 },
 "nbformat": 4,
 "nbformat_minor": 2
}
